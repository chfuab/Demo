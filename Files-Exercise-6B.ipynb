{
 "cells": [
  {
   "cell_type": "code",
   "execution_count": null,
   "metadata": {
    "colab": {},
    "colab_type": "code",
    "id": "tDpKNXqMGabC"
   },
   "outputs": [],
   "source": [
    "# File IO Exercise 6B\n",
    "\n",
    "For this exercise, please refer to the text files located in the data folder."
   ]
  },
  {
   "cell_type": "markdown",
   "metadata": {
    "colab_type": "text",
    "id": "XsitxLc0GabZ"
   },
   "source": [
    "1. Write a program to find the longest word in the text file \"Python-wiki.txt\"."
   ]
  },
  {
   "cell_type": "code",
   "execution_count": 7,
   "metadata": {
    "colab": {},
    "colab_type": "code",
    "executionInfo": {
     "elapsed": 1032,
     "status": "ok",
     "timestamp": 1596184096094,
     "user": {
      "displayName": "KING CHAK HO",
      "photoUrl": "",
      "userId": "01684497642639073245"
     },
     "user_tz": -480
    },
    "id": "EiZ6MqovGabh"
   },
   "outputs": [
    {
     "name": "stdout",
     "output_type": "stream",
     "text": [
      "instance.method(argument)\n"
     ]
    }
   ],
   "source": [
    "with open(\"data/Python-wiki.txt\", 'r', encoding=\"Latin-1\") as f:\n",
    "    text = f.read()\n",
    "    length = 0\n",
    "    the_word = ''\n",
    "    for word in text.split():\n",
    "        if len(word) > length:\n",
    "            length = len(word)\n",
    "            the_word = word\n",
    "    print(the_word)\n",
    "    \n",
    "    "
   ]
  },
  {
   "cell_type": "markdown",
   "metadata": {
    "colab_type": "text",
    "id": "1bRHqO4_Gabw"
   },
   "source": [
    "2. Write a program to get the file size of the file \"zen-of-python.txt\"."
   ]
  },
  {
   "cell_type": "code",
   "execution_count": 10,
   "metadata": {
    "colab": {},
    "colab_type": "code",
    "executionInfo": {
     "elapsed": 823,
     "status": "ok",
     "timestamp": 1596184098732,
     "user": {
      "displayName": "KING CHAK HO",
      "photoUrl": "",
      "userId": "01684497642639073245"
     },
     "user_tz": -480
    },
    "id": "q1Rd_nFuGab4"
   },
   "outputs": [
    {
     "name": "stdout",
     "output_type": "stream",
     "text": [
      "size of file is 840 bytes\n"
     ]
    }
   ],
   "source": [
    "import os\n",
    "size = os.path.getsize('data/zen-of-python.txt')\n",
    "print(\"size of file is\", size, 'bytes')"
   ]
  },
  {
   "cell_type": "markdown",
   "metadata": {
    "colab_type": "text",
    "id": "JaogbuAOGacM"
   },
   "source": [
    "3. Write a program to write a list content to a new file.\n",
    "\n",
    "\n",
    "```\n",
    "e.g.\n",
    "you have a list called color = ['Red', 'Green', 'White', 'Black', 'Pink', 'Yellow']\n",
    " write it on 'abc.txt'\n",
    "```\n",
    "\n"
   ]
  },
  {
   "cell_type": "code",
   "execution_count": 11,
   "metadata": {
    "colab": {},
    "colab_type": "code",
    "executionInfo": {
     "elapsed": 1000,
     "status": "ok",
     "timestamp": 1596184218787,
     "user": {
      "displayName": "KING CHAK HO",
      "photoUrl": "",
      "userId": "01684497642639073245"
     },
     "user_tz": -480
    },
    "id": "8ycu4uFEnx1M"
   },
   "outputs": [],
   "source": [
    "lst = ['Red', 'Green', 'White', 'Black', 'Pink', 'Yellow']\n",
    "with open(\"data/abc.txt\", 'w') as f:\n",
    "    f.write(str(lst))"
   ]
  },
  {
   "cell_type": "markdown",
   "metadata": {
    "colab_type": "text",
    "id": "sPe0uqCYntUm"
   },
   "source": [
    "4. Write a program to combine each line from \"zen-of-python.txt\" with the corresponding line in \"Python-wiki.txt\"."
   ]
  },
  {
   "cell_type": "code",
   "execution_count": 14,
   "metadata": {
    "colab": {},
    "colab_type": "code",
    "executionInfo": {
     "elapsed": 871,
     "status": "ok",
     "timestamp": 1596184226455,
     "user": {
      "displayName": "KING CHAK HO",
      "photoUrl": "",
      "userId": "01684497642639073245"
     },
     "user_tz": -480
    },
    "id": "zZKHb0WGGacT"
   },
   "outputs": [
    {
     "name": "stdout",
     "output_type": "stream",
     "text": [
      "['Beautiful is better than ugly.\\n', \"Python is an interpreted, high-level, general-purpose programming language. Created by Guido van Rossum and first released in 1991, Python's design philosophy emphasizes code readability with its notable use of significant whitespace. Its language constructs and object-oriented approach aim to help programmers write clear, logical code for small and large-scale projects.[27]\\n\", 'Explicit is better than implicit.\\n', '\\n', 'Simple is better than complex.\\n', 'Python is dynamically typed and garbage-collected. It supports multiple programming paradigms, including procedural, object-oriented, and functional programming. Python is often described as a \"batteries included\" language due to its comprehensive standard library.[28]\\n', 'Complex is better than complicated.\\n', '\\n', 'Flat is better than nested.\\n', 'Python was conceived in the late 1980s as a successor to the ABC language. Python 2.0, released 2000, introduced features like list comprehensions and a garbage collection system capable of collecting reference cycles. Python 3.0, released 2008, was a major revision of the language that is not completely backward-compatible, and much Python 2 code does not run unmodified on Python 3. Due to concern about the amount of code written for Python 2, support for Python 2.7 (the last release in the 2.x series) was extended to 2020. Language developer Guido van Rossum shouldered sole responsibility for the project until July 2018 but now shares his leadership as a member of a five-person steering council.[29][30][31]\\n', 'Sparse is better than dense.\\n', '\\n', 'Readability counts.\\n', 'Python interpreters are available for many operating systems. A global community of programmers develops and maintains CPython, an open source[32] reference implementation. A non-profit organization, the Python Software Foundation, manages and directs resources for Python and CPython development.\\n', \"Special cases aren't special enough to break the rules.\\n\", '\\n', 'Although practicality beats purity.\\n', '\\n', 'Errors should never pass silently.\\n', 'Guido van Rossum at OSCON 2006.\\n', 'Unless explicitly silenced.\\n', 'Main article: History of Python\\n', 'In the face of ambiguity, refuse the temptation to guess.\\n', 'Python was conceived in the late 1980s[33] by Guido van Rossum at Centrum Wiskunde & Informatica (CWI) in the Netherlands as a successor to the ABC language (itself inspired by SETL),[34] capable of exception handling and interfacing with the Amoeba operating system.[8] Its implementation began in December 1989.[35] Van Rossum continued as Python\\'s lead developer until July 12, 2018, when he announced his \"permanent vacation\" from his responsibilities as Python\\'s Benevolent Dictator For Life, a title the Python community bestowed upon him to reflect his long-term commitment as the project\\'s chief decision-maker.[36] In January, 2019, active Python core developers elected Brett Cannon, Nick Coghlan, Barry Warsaw, Carol Willing and Van Rossum to a five-member \"Steering Council\" to lead the project.[37]\\n', 'There should be one-- and preferably only one --obvious way to do it.\\n', '\\n', \"Although that way may not be obvious at first unless you're Dutch.\\n\", 'Python 2.0 was released on 16 October 2000 with many major new features, including a cycle-detecting garbage collector and support for Unicode.[38]\\n', 'Now is better than never.\\n', '\\n', 'Although never is often better than *right* now.\\n', 'Python 3.0 was released on 3 December 2008. It was a major revision of the language that is not completely backward-compatible.[39] Many of its major features were backported to Python 2.6.x[40] and 2.7.x version series. Releases of Python 3 include the 2to3 utility, which automates (at least partially) the translation of Python 2 code to Python 3.[41]\\n', \"If the implementation is hard to explain, it's a bad idea.\\n\", '\\n', 'If the implementation is easy to explain, it may be a good idea.\\n', \"Python 2.7's end-of-life date was initially set at 2015 then postponed to 2020 out of concern that a large body of existing code could not easily be forward-ported to Python 3.[42][43] In January 2017, Google announced work on a Python 2.7 to Go transcompiler to improve performance under concurrent workloads.[44]\\n\", \"Namespaces are one honking great idea -- let's do more of those!\", '\\n']\n"
     ]
    }
   ],
   "source": [
    "with open(\"data/zen-of-python.txt\", 'r') as f:\n",
    "    lines = f.readlines()\n",
    "    with open(\"data/Python-wiki.txt\", 'r', encoding = \"Latin-1\") as f1:\n",
    "        lines1 = f1.readlines()\n",
    "        lst = []\n",
    "        for i in range(min(len(lines), len(lines1))):\n",
    "            lst.append(lines[i])\n",
    "            lst.append(lines1[i])\n",
    "        print(lst)"
   ]
  },
  {
   "cell_type": "markdown",
   "metadata": {
    "colab_type": "text",
    "id": "jtHiPOSuizFx"
   },
   "source": [
    "5. Read a random line from \"Python-wiki.txt\"."
   ]
  },
  {
   "cell_type": "code",
   "execution_count": 21,
   "metadata": {
    "colab": {},
    "colab_type": "code",
    "executionInfo": {
     "elapsed": 811,
     "status": "ok",
     "timestamp": 1596184232397,
     "user": {
      "displayName": "KING CHAK HO",
      "photoUrl": "",
      "userId": "01684497642639073245"
     },
     "user_tz": -480
    },
    "id": "c8YmiSguizFx"
   },
   "outputs": [
    {
     "name": "stdout",
     "output_type": "stream",
     "text": [
      "Python uses the words and, or, not for its boolean operators rather than the symbolic &&, ||, ! used in Java and C.\n",
      "\n"
     ]
    }
   ],
   "source": [
    "import random\n",
    "with open(\"data/Python-wiki.txt\", 'r', encoding = \"Latin-1\") as f:\n",
    "    lines = f.readlines()\n",
    "    rand_num = random.randint(0,len(lines)-1)\n",
    "    print(lines[rand_num])"
   ]
  },
  {
   "cell_type": "markdown",
   "metadata": {
    "colab_type": "text",
    "id": "_cBtXcZ1izF0"
   },
   "source": [
    "6. Check if a file is closed or not."
   ]
  },
  {
   "cell_type": "code",
   "execution_count": 22,
   "metadata": {
    "colab": {},
    "colab_type": "code",
    "executionInfo": {
     "elapsed": 857,
     "status": "ok",
     "timestamp": 1596184240170,
     "user": {
      "displayName": "KING CHAK HO",
      "photoUrl": "",
      "userId": "01684497642639073245"
     },
     "user_tz": -480
    },
    "id": "0Iol5Ch7izF0"
   },
   "outputs": [
    {
     "data": {
      "text/plain": [
       "True"
      ]
     },
     "execution_count": 22,
     "metadata": {},
     "output_type": "execute_result"
    }
   ],
   "source": [
    "f.closed"
   ]
  },
  {
   "cell_type": "markdown",
   "metadata": {
    "colab_type": "text",
    "id": "ipCo9ZNoizF2"
   },
   "source": [
    "7. Return the number of words of \"Python-wiki.txt\"."
   ]
  },
  {
   "cell_type": "code",
   "execution_count": 23,
   "metadata": {
    "colab": {},
    "colab_type": "code",
    "executionInfo": {
     "elapsed": 865,
     "status": "ok",
     "timestamp": 1596184245295,
     "user": {
      "displayName": "KING CHAK HO",
      "photoUrl": "",
      "userId": "01684497642639073245"
     },
     "user_tz": -480
    },
    "id": "YDOwDqb5izF2"
   },
   "outputs": [
    {
     "name": "stdout",
     "output_type": "stream",
     "text": [
      "3031\n"
     ]
    }
   ],
   "source": [
    "with open(\"data/Python-wiki.txt\", 'r', encoding = \"Latin-1\") as f:\n",
    "    text = f.read()\n",
    "    print(len(text.split()))"
   ]
  },
  {
   "cell_type": "markdown",
   "metadata": {
    "colab_type": "text",
    "id": "JvcaYcXyizF4"
   },
   "source": [
    "8. Extract the characters that can be seen in \"Python-wiki.txt\" and put them into a list. Each character in the list should not have any duplicates in the list.\n",
    "\n",
    "Expected output:\n",
    "```\n",
    "['P','y','t','h','o','n',' ','i','s','a','e','r','p','d',',','g','-','l','v','u','m','.','C','b','G','R','f', '1','9',\"'\",'z','c','w','I','j','[','2','7',']','\\n','\"','8','0','A','B','k','3','D','(','x',')','L','J','S','F','O','N','6','M',':','H','W','&','E','T','4','5','V','U',';','Z','—','§','=','q','/','<','>','*','@','|','!','?','+','%','{','}','\\\\','#']\n",
    "\n",
    "```\n",
    "\n"
   ]
  },
  {
   "cell_type": "code",
   "execution_count": 25,
   "metadata": {
    "colab": {},
    "colab_type": "code",
    "executionInfo": {
     "elapsed": 810,
     "status": "ok",
     "timestamp": 1596184250418,
     "user": {
      "displayName": "KING CHAK HO",
      "photoUrl": "",
      "userId": "01684497642639073245"
     },
     "user_tz": -480
    },
    "id": "NQKai4H_izF4"
   },
   "outputs": [
    {
     "name": "stdout",
     "output_type": "stream",
     "text": [
      "['P', 'y', 't', 'h', 'o', 'n', ' ', 'i', 's', 'a', 'e', 'r', 'p', 'd', ',', 'g', '-', 'l', 'v', 'u', 'm', '.', 'C', 'b', 'G', 'R', 'f', '1', '9', \"'\", 'z', 'c', 'w', 'I', 'j', '[', '2', '7', ']', '\\n', '\"', '8', '0', 'A', 'B', 'k', '3', 'D', '(', 'x', ')', 'L', 'J', 'S', 'F', 'O', 'N', '6', 'M', ':', 'H', 'W', '&', 'E', 'T', '4', '5', 'V', 'U', ';', 'Z', '\\x97', '§', '=', 'q', '/', '<', '>', '*', '@', '|', '!', '?', '+', '%', '{', '}', '\\\\', '#']\n"
     ]
    }
   ],
   "source": [
    "with open(\"data/Python-wiki.txt\", 'r', encoding = \"Latin-1\") as f:\n",
    "    text = f.read()\n",
    "    lst = []\n",
    "    for char in text:\n",
    "        if char not in lst:\n",
    "            lst.append(char)\n",
    "    print(lst)"
   ]
  },
  {
   "cell_type": "markdown",
   "metadata": {
    "colab_type": "text",
    "id": "tYIbbVC8izF5"
   },
   "source": [
    "9. Generate 26 text files named A.txt, B.txt, and so on up to Z.txt."
   ]
  },
  {
   "cell_type": "code",
   "execution_count": 24,
   "metadata": {
    "colab": {},
    "colab_type": "code",
    "id": "Y6dBILHUizF6"
   },
   "outputs": [],
   "source": [
    "for char in 'ABCDEFGHIJKLMNOPQRSTUVWXYZ':\n",
    "    string = \"data/\" + char + \".txt\"\n",
    "    with open(string, \"w\") as f:\n",
    "        f.write('')"
   ]
  },
  {
   "cell_type": "markdown",
   "metadata": {
    "colab_type": "text",
    "id": "-ExPKdkwizF7"
   },
   "source": [
    "10. Create a file where all letters of English alphabet are listed by specified number of letters on each line."
   ]
  },
  {
   "cell_type": "code",
   "execution_count": null,
   "metadata": {
    "colab": {},
    "colab_type": "code",
    "id": "uK7VnZNRizF7"
   },
   "outputs": [],
   "source": []
  },
  {
   "cell_type": "code",
   "execution_count": 15,
   "metadata": {},
   "outputs": [
    {
     "data": {
      "text/plain": [
       "')())())'"
      ]
     },
     "execution_count": 15,
     "metadata": {},
     "output_type": "execute_result"
    }
   ],
   "source": []
  }
 ],
 "metadata": {
  "colab": {
   "collapsed_sections": [],
   "name": "Files-Exercise-6B.ipynb",
   "provenance": []
  },
  "kernelspec": {
   "display_name": "Python 3",
   "language": "python",
   "name": "python3"
  },
  "language_info": {
   "codemirror_mode": {
    "name": "ipython",
    "version": 3
   },
   "file_extension": ".py",
   "mimetype": "text/x-python",
   "name": "python",
   "nbconvert_exporter": "python",
   "pygments_lexer": "ipython3",
   "version": "3.8.8"
  }
 },
 "nbformat": 4,
 "nbformat_minor": 1
}
