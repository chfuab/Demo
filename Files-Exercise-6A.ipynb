{
 "cells": [
  {
   "cell_type": "code",
   "execution_count": null,
   "metadata": {
    "id": "tDpKNXqMGabC"
   },
   "outputs": [],
   "source": [
    " # File IO Exercise 6A (Compulsory)\n",
    "\n",
    "For this exercise, please refer to the text files located in the data folder."
   ]
  },
  {
   "cell_type": "markdown",
   "metadata": {
    "id": "XsitxLc0GabZ"
   },
   "source": [
    "1. Count the frequency of words in the text file \"Python-wiki.txt\".\n",
    "\n",
    "```\n",
    "NB. By default, the system will try to open text files with UTF-8 encoding, which only supports the ASCII character set and some common characters. But the text file Python-wiki contains characters that are not supported by UTF-8, so you will have to specify the encoding of the file in order to open it. (Hint: It's using the latin_1 encoding.)\n",
    "```"
   ]
  },
  {
   "cell_type": "code",
   "execution_count": null,
   "metadata": {},
   "outputs": [],
   "source": [
    "import os\n",
    "with open('data/Python-wiki.txt','r', encoding = 'latin-1') as f:\n",
    "    text = f.read()\n",
    "    words = text.split()\n",
    "    words2 = []\n",
    "    for word in words:\n",
    "        if word not in words2:\n",
    "            words2.append(word)\n",
    "    for word in words2:\n",
    "        print(f\"The frequency of {word} is {words.count(word)}\")\n",
    "        "
   ]
  },
  {
   "cell_type": "code",
   "execution_count": null,
   "metadata": {
    "colab": {
     "base_uri": "https://localhost:8080/"
    },
    "executionInfo": {
     "elapsed": 736,
     "status": "ok",
     "timestamp": 1610444239114,
     "user": {
      "displayName": "Leo Leung",
      "photoUrl": "",
      "userId": "14292952993749046962"
     },
     "user_tz": -480
    },
    "id": "KdA4t8Ws-LPr",
    "outputId": "fa3d19c7-1fa0-45b7-e738-ff470a68047a"
   },
   "outputs": [],
   "source": [
    "with open('/content/drive/MyDrive/00BeginnerPython/06Files/Day 6/exercises/data/Python-wiki.txt','r', encoding='latin-1') as f:\n",
    "    hand = f.read()\n",
    "\n",
    "## abarham's solution \n",
    "list0 = list()\n",
    "list1 = list()\n",
    "list0 = hand.split('\\n\\n')\n",
    "hand\n",
    "for line in list0:\n",
    "    hand = line.split() ## splitting the word\n",
    "    for word in hand:\n",
    "        list1.append(word)\n",
    "\n",
    "print(len(list1))"
   ]
  },
  {
   "cell_type": "code",
   "execution_count": null,
   "metadata": {
    "colab": {
     "base_uri": "https://localhost:8080/",
     "height": 336
    },
    "executionInfo": {
     "elapsed": 995,
     "status": "error",
     "timestamp": 1610444563851,
     "user": {
      "displayName": "Leo Leung",
      "photoUrl": "",
      "userId": "14292952993749046962"
     },
     "user_tz": -480
    },
    "id": "RbbTo0xt-EVf",
    "outputId": "b734b60f-7d8e-41e1-d9d7-ce26cb740ca1"
   },
   "outputs": [],
   "source": [
    "def freq(word):\n",
    "    words = word.split()          \n",
    "    words_2 = []\n",
    "    for i in words:\n",
    "        if i not in words_2:\n",
    "            words_2.append(i)             \n",
    "    for i in range(0, len(words_2)):\n",
    "        print('Frequency of', words_2[i], 'is :', words.count(words_2[i]))        \n"
   ]
  },
  {
   "cell_type": "code",
   "execution_count": null,
   "metadata": {
    "colab": {
     "base_uri": "https://localhost:8080/"
    },
    "executionInfo": {
     "elapsed": 977,
     "status": "ok",
     "timestamp": 1610444720209,
     "user": {
      "displayName": "Leo Leung",
      "photoUrl": "",
      "userId": "14292952993749046962"
     },
     "user_tz": -480
    },
    "id": "6ULiSzBh-nKe",
    "outputId": "5287e886-e218-46b2-dbe8-5d16263bfc7b"
   },
   "outputs": [],
   "source": [
    "## christy solution\n",
    "f = open(\"/content/drive/MyDrive/00BeginnerPython/06Files/Day 6/exercises/data/Python-wiki.txt\", encoding=\"latin_1\")\n",
    "text = f.read()\n",
    "word = text.split()  \n",
    "word\n",
    "print(len(word))\n",
    "word\n"
   ]
  },
  {
   "cell_type": "code",
   "execution_count": null,
   "metadata": {
    "colab": {
     "base_uri": "https://localhost:8080/"
    },
    "executionInfo": {
     "elapsed": 778,
     "status": "ok",
     "timestamp": 1610444393288,
     "user": {
      "displayName": "Leo Leung",
      "photoUrl": "",
      "userId": "14292952993749046962"
     },
     "user_tz": -480
    },
    "id": "xhMtV5rA9PuF",
    "outputId": "b22455b7-98c8-4f37-a76e-19a377134301"
   },
   "outputs": [],
   "source": [
    "# list0 = list()\n",
    "# list1 = list()\n",
    "# list0 = hand.split('\\n\\n')\n",
    "hand"
   ]
  },
  {
   "cell_type": "markdown",
   "metadata": {
    "id": "1bRHqO4_Gabw"
   },
   "source": [
    "2. Read the first n lines of the file \"zen-of-python.txt\" and put the lines in a list.\n",
    "\n",
    "```\n",
    "e.g.\n",
    "input: 6\n",
    "ouput: ['Beautiful is better than ugly.\\n', 'Explicit is better than implicit.\\n', 'Simple is better than complex.\\n', 'Complex is better than complicated.\\n', 'Flat is better than nested.\\n', 'Sparse is better than dense.\\n']\n",
    "```\n",
    "\n"
   ]
  },
  {
   "cell_type": "code",
   "execution_count": null,
   "metadata": {},
   "outputs": [],
   "source": [
    "def num_of_lines(n):\n",
    "    lst =  []\n",
    "    count = 0\n",
    "    with open('data/zen-of-python.txt', 'r') as f:\n",
    "        for line in f:\n",
    "            lst.append(line)\n",
    "            count += 1\n",
    "            if count >= n:\n",
    "                print(lst)\n",
    "                break\n",
    "num_of_lines(3)"
   ]
  },
  {
   "cell_type": "code",
   "execution_count": null,
   "metadata": {
    "colab": {
     "base_uri": "https://localhost:8080/"
    },
    "executionInfo": {
     "elapsed": 3691,
     "status": "ok",
     "timestamp": 1610444884995,
     "user": {
      "displayName": "Leo Leung",
      "photoUrl": "",
      "userId": "14292952993749046962"
     },
     "user_tz": -480
    },
    "id": "q1Rd_nFuGab4",
    "outputId": "eeee5467-817a-4901-8834-e2aba08ce25c"
   },
   "outputs": [],
   "source": [
    "## Genevieve \n",
    "import os \n",
    "os.getcwd()\n",
    "with open('/content/drive/MyDrive/00BeginnerPython/06Files/Day 6/exercises/data/zen-of-python.txt','r') as f:\n",
    "  content=f.readlines()\n",
    "  x=int(input('number of line'))\n",
    "  print(content[0:x])"
   ]
  },
  {
   "cell_type": "markdown",
   "metadata": {
    "id": "JaogbuAOGacM"
   },
   "source": [
    "3. Remove newline characters from the file \"zen-of-python.txt\"."
   ]
  },
  {
   "cell_type": "code",
   "execution_count": null,
   "metadata": {},
   "outputs": [],
   "source": [
    "with open('data/zen-of-python.txt', 'r') as f:\n",
    "    text = f.read()\n",
    "    text.replace('\\n', '')\n",
    "print(text)"
   ]
  },
  {
   "cell_type": "code",
   "execution_count": null,
   "metadata": {
    "colab": {
     "base_uri": "https://localhost:8080/"
    },
    "executionInfo": {
     "elapsed": 738,
     "status": "ok",
     "timestamp": 1610445508448,
     "user": {
      "displayName": "Leo Leung",
      "photoUrl": "",
      "userId": "14292952993749046962"
     },
     "user_tz": -480
    },
    "id": "8ycu4uFEnx1M",
    "outputId": "dc606b06-9bac-4cd0-8199-2b06eb9ffeb9"
   },
   "outputs": [],
   "source": [
    "## shane\n",
    "with open('/content/drive/MyDrive/00BeginnerPython/06Files/Day 6/exercises/data/zen-of-python.txt','r') as f:\n",
    "  f_contents=f.read()\n",
    "  f_contents=f_contents.replace('\\n','')\n",
    "  \n",
    "print(f_contents)"
   ]
  },
  {
   "cell_type": "code",
   "execution_count": null,
   "metadata": {
    "colab": {
     "base_uri": "https://localhost:8080/"
    },
    "executionInfo": {
     "elapsed": 810,
     "status": "ok",
     "timestamp": 1610445429022,
     "user": {
      "displayName": "Leo Leung",
      "photoUrl": "",
      "userId": "14292952993749046962"
     },
     "user_tz": -480
    },
    "id": "NhMTWXQwBopC",
    "outputId": "379d3c77-757c-4b4b-892b-b5d752a520cc"
   },
   "outputs": [],
   "source": [
    "f_contents\n",
    "print('hello \\n hi')"
   ]
  },
  {
   "cell_type": "code",
   "execution_count": null,
   "metadata": {
    "colab": {
     "base_uri": "https://localhost:8080/",
     "height": 163
    },
    "executionInfo": {
     "elapsed": 954,
     "status": "ok",
     "timestamp": 1610445336464,
     "user": {
      "displayName": "Leo Leung",
      "photoUrl": "",
      "userId": "14292952993749046962"
     },
     "user_tz": -480
    },
    "id": "kLntWnm3AzDs",
    "outputId": "31a41269-4fd8-4756-a44d-b3900f19713d"
   },
   "outputs": [],
   "source": [
    "with open(\"/content/drive/MyDrive/00BeginnerPython/06Files/Day 6/exercises/data/zen-of-python.txt\", 'r') as f:\n",
    "    lines = f.read()\n",
    "    lines = lines.replace('\\n', \" \")\n",
    "lines\n"
   ]
  },
  {
   "cell_type": "code",
   "execution_count": null,
   "metadata": {
    "colab": {
     "base_uri": "https://localhost:8080/"
    },
    "executionInfo": {
     "elapsed": 745,
     "status": "ok",
     "timestamp": 1610445004429,
     "user": {
      "displayName": "Leo Leung",
      "photoUrl": "",
      "userId": "14292952993749046962"
     },
     "user_tz": -480
    },
    "id": "NAEQXwtr__Zd",
    "outputId": "076a4231-e0b5-44a3-d61e-78e704fd802b"
   },
   "outputs": [],
   "source": [
    " \n"
   ]
  },
  {
   "cell_type": "code",
   "execution_count": null,
   "metadata": {
    "colab": {
     "base_uri": "https://localhost:8080/"
    },
    "executionInfo": {
     "elapsed": 20561,
     "status": "ok",
     "timestamp": 1610444082653,
     "user": {
      "displayName": "Leo Leung",
      "photoUrl": "",
      "userId": "14292952993749046962"
     },
     "user_tz": -480
    },
    "id": "AVoCNXpcWNOr",
    "outputId": "1002add5-7ec3-4aa9-e27d-1a4d1d7e9239"
   },
   "outputs": [],
   "source": [
    "from google.colab import drive\n",
    "drive.mount('/content/drive')"
   ]
  },
  {
   "cell_type": "code",
   "execution_count": null,
   "metadata": {
    "colab": {
     "base_uri": "https://localhost:8080/"
    },
    "executionInfo": {
     "elapsed": 976,
     "status": "ok",
     "timestamp": 1610350412532,
     "user": {
      "displayName": "Leo Leung",
      "photoUrl": "",
      "userId": "14292952993749046962"
     },
     "user_tz": -480
    },
    "id": "x8i3Q_JuWT1R",
    "outputId": "cf556f99-b75e-4dc6-bdfe-de6a5e895ef7"
   },
   "outputs": [],
   "source": [
    "with open(r'/content/drive/MyDrive/00BeginnerPython/06Files/Day 6/data/zen-of-python.txt','r') as f:\n",
    "  text=f.read()\n",
    "  \n",
    "print(text.replace('\\n',''))"
   ]
  },
  {
   "cell_type": "code",
   "execution_count": null,
   "metadata": {
    "id": "Gsq9OsDfCY_l"
   },
   "outputs": [],
   "source": []
  },
  {
   "cell_type": "markdown",
   "metadata": {
    "id": "sPe0uqCYntUm"
   },
   "source": [
    "4. Make a copy  of quick-fox.txt using python."
   ]
  },
  {
   "cell_type": "code",
   "execution_count": null,
   "metadata": {},
   "outputs": [],
   "source": [
    "import shutil\n",
    "source = 'data/quick-fox.txt'\n",
    "destination = 'data/quick-fox-copy.txt'\n",
    "shutil.copyfile(source, destination)"
   ]
  },
  {
   "cell_type": "code",
   "execution_count": null,
   "metadata": {
    "id": "zZKHb0WGGacT"
   },
   "outputs": [],
   "source": [
    "from shutil import copyfile\n",
    "import os\n",
    "\n",
    "source = \"./data/zen-of-python.txt\"\n",
    "destination = \"./data/zen-of-python_copy.txt\"\n",
    "copyfile(source, destination)"
   ]
  },
  {
   "cell_type": "markdown",
   "metadata": {
    "id": "tCn22nze9T0w"
   },
   "source": [
    "5. Create a new text file called 'some-text.txt' that has \"first sentence\" as its first line and \"second sentence\" as its second line."
   ]
  },
  {
   "cell_type": "code",
   "execution_count": null,
   "metadata": {
    "id": "8GcosRyI9T0x"
   },
   "outputs": [],
   "source": [
    "string = 'first sentence \\nSecond sentence \\nThird sentence \\n'\n",
    "with open('data/some-text.txt', 'w') as f:\n",
    "    f.write(string)"
   ]
  },
  {
   "cell_type": "markdown",
   "metadata": {
    "id": "mxKW6TPK9T0y"
   },
   "source": [
    "6. Capitalize all the words in \"quick-fox.txt\"."
   ]
  },
  {
   "cell_type": "code",
   "execution_count": null,
   "metadata": {},
   "outputs": [],
   "source": [
    "with open('data/quick-fox.txt', 'r') as f:\n",
    "    text = f.read()\n",
    "    text.upper()"
   ]
  },
  {
   "cell_type": "code",
   "execution_count": null,
   "metadata": {
    "id": "ppavlKxa9T0z"
   },
   "outputs": [],
   "source": [
    "## yoon\n",
    "with open('/content/drive/MyDrive/00BeginnerPython/06Files/Day 6/exercises/data/zen-of-python.txt', 'r') as f:\n",
    "    words = f.read()\n",
    "cap_words = words.upper()\n",
    "print(cap_words) "
   ]
  },
  {
   "cell_type": "markdown",
   "metadata": {
    "id": "jBWKHQm59T00"
   },
   "source": [
    "7. Remove all the vowels in the text file \"zen-of-python.txt\"."
   ]
  },
  {
   "cell_type": "code",
   "execution_count": null,
   "metadata": {},
   "outputs": [],
   "source": [
    "with open('data/zen-of-python.txt','r') as f:\n",
    "    text = f.read()\n",
    "    for char in text:\n",
    "        if char in 'aeiouAEIOU':\n",
    "            text = text.replace(char, '')\n"
   ]
  },
  {
   "cell_type": "markdown",
   "metadata": {
    "id": "AUipIuBr9T04"
   },
   "source": [
    "8. Replace all fullstops with exclamation marks in the text file \"zen-of-python.txt\"."
   ]
  },
  {
   "cell_type": "code",
   "execution_count": 5,
   "metadata": {
    "id": "N5Auh9us9T04"
   },
   "outputs": [
    {
     "data": {
      "text/plain": [
       "\"Beautiful is better than ugly!\\nExplicit is better than implicit!\\nSimple is better than complex!\\nComplex is better than complicated!\\nFlat is better than nested!\\nSparse is better than dense!\\nReadability counts!\\nSpecial cases aren't special enough to break the rules!\\nAlthough practicality beats purity!\\nErrors should never pass silently!\\nUnless explicitly silenced!\\nIn the face of ambiguity, refuse the temptation to guess!\\nThere should be one-- and preferably only one --obvious way to do it!\\nAlthough that way may not be obvious at first unless you're Dutch!\\nNow is better than never!\\nAlthough never is often better than *right* now!\\nIf the implementation is hard to explain, it's a bad idea!\\nIf the implementation is easy to explain, it may be a good idea!\\nNamespaces are one honking great idea -- let's do more of those!\""
      ]
     },
     "execution_count": 5,
     "metadata": {},
     "output_type": "execute_result"
    }
   ],
   "source": [
    "with open(\"data/zen-of-python.txt\", 'r') as f:\n",
    "    text = f.read()\n",
    "    text = text.replace(\".\", \"!\")\n",
    "text"
   ]
  },
  {
   "cell_type": "markdown",
   "metadata": {
    "id": "yBHmtFfs9T05"
   },
   "source": [
    "9. Count the frequency of the word \"Python\" in the text file \"Python-wiki.txt\".\n",
    "\n",
    "\n",
    "```\n",
    "expected output: Frequency of Python is : 78\n",
    "```\n",
    "\n"
   ]
  },
  {
   "cell_type": "code",
   "execution_count": 9,
   "metadata": {},
   "outputs": [
    {
     "name": "stdout",
     "output_type": "stream",
     "text": [
      "The frequency of word Python is  104\n"
     ]
    }
   ],
   "source": [
    "with open(\"data/Python-wiki.txt\", 'r', encoding = \"Latin-1\") as f:\n",
    "    text = f.read()\n",
    "    print(\"The frequency of word Python is \", text.count(\"Python\"))"
   ]
  },
  {
   "cell_type": "code",
   "execution_count": null,
   "metadata": {
    "colab": {
     "base_uri": "https://localhost:8080/",
     "height": 1000
    },
    "executionInfo": {
     "elapsed": 804,
     "status": "ok",
     "timestamp": 1610446864032,
     "user": {
      "displayName": "Leo Leung",
      "photoUrl": "",
      "userId": "14292952993749046962"
     },
     "user_tz": -480
    },
    "id": "nwhS0sGC9T05",
    "outputId": "cc1408c0-59cb-4866-f489-d687bdfe528c"
   },
   "outputs": [],
   "source": [
    "## mandy 55\n",
    "file='/content/drive/MyDrive/00BeginnerPython/06Files/Day 6/exercises/data/Python-wiki.txt'\n",
    "with open (\"/content/drive/MyDrive/00BeginnerPython/06Files/Day 6/exercises/data/Python-wiki.txt\",encoding='latin_1') as f:\n",
    "  content=f.read()\n",
    "  f4 = content.split()\n",
    "  count = 0\n",
    "  for i in f4:\n",
    "    if  'Python' == i :\n",
    "      count+=1\n",
    "print(count)\n",
    "print ",
    "(content)"
   ]
  },
  {
   "cell_type": "code",
   "execution_count": null,
   "metadata": {
    "colab": {
     "base_uri": "https://localhost:8080/"
    },
    "executionInfo": {
     "elapsed": 796,
     "status": "ok",
     "timestamp": 1610446546841,
     "user": {
      "displayName": "Leo Leung",
      "photoUrl": "",
      "userId": "14292952993749046962"
     },
     "user_tz": -480
    },
    "id": "1Z98ZibjFgjD",
    "outputId": "ec4231a5-93a4-4e2c-bb24-3b672a90ab97"
   },
   "outputs": [],
   "source": [
    "(##cp (78)\n",
    "c1=0\n",
    "\n",
    "f = open(file,'r',encoding='latin-1')\n",
    "pyt_wiki = f.read()\n",
    "f.close()\n",
    "\n",
    "\n",
    "\n",
    "l1=pyt_wiki.split()\n",
    "\n",
    "for i in l1:\n",
    "    if i == \"Python\":\n",
    "        c1+=1\n",
    "        \n",
    "print(\"Frequency of Python is : \", c1) ",
    "\n"
   ]
  },
  {
   "cell_type": "code",
   "execution_count": null,
   "metadata": {
    "colab": {
     "base_uri": "https://localhost:8080/"
    },
    "executionInfo": {
     "elapsed": 790,
     "status": "ok",
     "timestamp": 1610446515204,
     "user": {
      "displayName": "Leo Leung",
      "photoUrl": "",
      "userId": "14292952993749046962"
     },
     "user_tz": -480
    },
    "id": "KajxsjWNFslp",
    "outputId": "4fba1170-c7ab-4106-e4ec-cf808df6c0be"
   },
   "outputs": [],
   "source": [
    "## abraham (104)\n",
    "with open(file,'r', encoding='latin-1') as f:\n",
    "    hand = f.read()\n",
    "    \n",
    "print(f\"Frequency of Python is : {hand.count('Python')}\")"
   ]
  },
  {
   "cell_type": "markdown",
   "metadata": {
    "id": "1qWdfu9n9T07"
   },
   "source": [
    "10. Count the frequency of each alphabet in the text file \"Python-wiki.txt\"."
   ]
  },
  {
   "cell_type": "code",
   "execution_count": 10,
   "metadata": {
    "id": "9jDGXX369T07"
   },
   "outputs": [
    {
     "name": "stdout",
     "output_type": "stream",
     "text": [
      "The frequency of a is 1256\n",
      "The frequency of b is 227\n",
      "The frequency of c is 571\n",
      "The frequency of d is 521\n",
      "The frequency of e is 1752\n",
      "The frequency of f is 293\n",
      "The frequency of g is 324\n",
      "The frequency of h is 562\n",
      "The frequency of i is 1061\n",
      "The frequency of j is 37\n",
      "The frequency of k is 71\n",
      "The frequency of l is 649\n",
      "The frequency of m is 464\n",
      "The frequency of n is 1200\n",
      "The frequency of o is 1157\n",
      "The frequency of p is 372\n",
      "The frequency of q is 18\n",
      "The frequency of r is 873\n",
      "The frequency of s is 1072\n",
      "The frequency of t is 1398\n",
      "The frequency of u is 390\n",
      "The frequency of v is 117\n",
      "The frequency of w is 139\n",
      "The frequency of x is 93\n",
      "The frequency of y is 331\n",
      "The frequency of z is 9\n",
      "The frequency of A is 18\n",
      "The frequency of B is 11\n",
      "The frequency of C is 37\n",
      "The frequency of D is 5\n",
      "The frequency of E is 8\n",
      "The frequency of F is 9\n",
      "The frequency of G is 7\n",
      "The frequency of H is 4\n",
      "The frequency of I is 30\n",
      "The frequency of J is 9\n",
      "The frequency of K is 0\n",
      "The frequency of L is 8\n",
      "The frequency of M is 11\n",
      "The frequency of N is 7\n",
      "The frequency of O is 7\n",
      "The frequency of P is 117\n",
      "The frequency of Q is 0\n",
      "The frequency of R is 17\n",
      "The frequency of S is 21\n",
      "The frequency of T is 48\n",
      "The frequency of U is 5\n",
      "The frequency of V is 4\n",
      "The frequency of W is 6\n",
      "The frequency of X is 0\n",
      "The frequency of Y is 0\n",
      "The frequency of Z is 1\n"
     ]
    }
   ],
   "source": [
    "# ascii_lowercase = 'a-z'\n",
    "# ascii_uppercase 'A-Z'\n",
    "## or regex \n",
    "with open(\"data/Python-wiki.txt\", 'r', encoding = \"Latin-1\") as f:\n",
    "    text = f.read()\n",
    "    for char in 'abcdefghijklmnopqrstuvwxyzABCDEFGHIJKLMNOPQRSTUVWXYZ':\n",
    "        print(f\"The frequency of {char} is {text.count(char)}\")"
   ]
  },
  {
   "cell_type": "code",
   "execution_count": null,
   "metadata": {
    "id": "MsDMvjwJHz8N"
   },
   "outputs": [],
   "source": [
    "## Sascha :))\n",
    "import os ",
    " ",
    "\n",
    "with open(\"/Users/Sergiokl1/Documents/FDTS/drive-download-20210104T084408Z-001/06Files/Day 6/exercises/data/Python-wiki.txt\", 'r', encoding=\"ISO-8859-1\") as f: ",
    "\n",
    "      lines = f.read() ",
    "\n",
    "          lowercase = lines.lower() ",
    " \n",
    "             check =\"abcdefghklmnopqrstuvxyz\" ",
    " \n",
    "                alpha_count = {} ",
    " \n",
    "                   for alpha in check: ",
    "  \n",
    "                           count = lowercase.count(alpha) ",
    "\n",
    "                                   alpha_count[alpha] = count   ",
    "\n",
    "                                   print(alpha_count) ",
    " ",
    "\n",
    "                                   import os ",
    " ",
    "\n",
    "                                   with open(\"/Users/Sergiokl1/Documents/FDTS/drive-download-20210104T084408Z-001/06Files/Day 6/exercises/data/Python-wiki.txt\", 'r', encoding=\"ISO-8859-1\") as f: ",
    " \n",
    "                                        lines = f.read() ",
    " \n",
    "                                           lowercase = lines.lower() ",
    " \n",
    "                                              check =\"abcdefghklmnopqrstuvxyz\" ",
    "  \n",
    "                                                alpha_count = {} ",
    " \n",
    "                                                   for alpha in check: ",
    " \n",
    "                                                            count = lowercase.count(alpha) ",
    " \n",
    "                                                                   alpha_count[alpha] = count   ",
    "\n",
    "                                                                   print(alpha_count) "
   ]
  },
  {
   "cell_type": "code",
   "execution_count": null,
   "metadata": {
    "colab": {
     "base_uri": "https://localhost:8080/"
    },
    "executionInfo": {
     "elapsed": 955,
     "status": "ok",
     "timestamp": 1610447146008,
     "user": {
      "displayName": "Leo Leung",
      "photoUrl": "",
      "userId": "14292952993749046962"
     },
     "user_tz": -480
    },
    "id": "EW0WqpXlIGVU",
    "outputId": "75200ff2-dcd9-48db-c3ac-7bf611f43713"
   },
   "outputs": [],
   "source": [
    "f = open('/content/drive/MyDrive/00BeginnerPython/06Files/Day 6/exercises/data/Python-wiki.txt','r',encoding='latin-1')\n",
    "pyt_wiki = f.read()\n",
    "f.close()\n",
    "\n",
    "d1={}\n",
    "\n",
    "for i in pyt_wiki:\n",
    "    if i.isalpha():\n",
    "        j=i.lower()\n",
    "        if i in d1:\n",
    "            d1[j]+=1\n",
    "        else:\n",
    "            d1[j]=1\n",
    "print(d1) "
   ]
  },
  {
   "cell_type": "code",
   "execution_count": null,
   "metadata": {
    "id": "0EoDws3TIM8B"
   },
   "outputs": [],
   "source": []
  }
 ],
 "metadata": {
  "colab": {
   "collapsed_sections": [],
   "name": "Files-Exercise-6A.ipynb",
   "provenance": []
  },
  "kernelspec": {
   "display_name": "Python 3",
   "language": "python",
   "name": "python3"
  },
  "language_info": {
   "codemirror_mode": {
    "name": "ipython",
    "version": 3
   },
   "file_extension": ".py",
   "mimetype": "text/x-python",
   "name": "python",
   "nbconvert_exporter": "python",
   "pygments_lexer": "ipython3",
   "version": "3.8.8"
  },
  "toc": {
   "base_numbering": 1,
   "nav_menu": {},
   "number_sections": true,
   "sideBar": true,
   "skip_h1_title": false,
   "title_cell": "Table of Contents",
   "title_sidebar": "Contents",
   "toc_cell": false,
   "toc_position": {},
   "toc_section_display": true,
   "toc_window_display": false
  },
  "varInspector": {
   "cols": {
    "lenName": 16,
    "lenType": 16,
    "lenVar": 40
   },
   "kernels_config": {
    "python": {
     "delete_cmd_postfix": "",
     "delete_cmd_prefix": "del ",
     "library": "var_list.py",
     "varRefreshCmd": "print(var_dic_list())"
    },
    "r": {
     "delete_cmd_postfix": ") ",
     "delete_cmd_prefix": "rm(",
     "library": "var_list.r",
     "varRefreshCmd": "cat(var_dic_list()) "
    }
   },
   "types_to_exclude": [
    "module",
    "function",
    "builtin_function_or_method",
    "instance",
    "_Feature"
   ],
   "window_display": false
  }
 },
 "nbformat": 4,
 "nbformat_minor": 1
}
